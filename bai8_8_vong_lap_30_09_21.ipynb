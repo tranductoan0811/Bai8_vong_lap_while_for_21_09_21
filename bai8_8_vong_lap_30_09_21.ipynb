{
 "cells": [
  {
   "cell_type": "code",
   "execution_count": 1,
   "id": "9351f28d",
   "metadata": {},
   "outputs": [
    {
     "name": "stdout",
     "output_type": "stream",
     "text": [
      "Nhập số :10\n",
      "30\n",
      "25\n"
     ]
    }
   ],
   "source": [
    "#Tính tổng các số chẵn, lẻ. Sử dụng vòng for, không sử dụng if\n",
    "number = int(input(\"Nhập số :\"))\n",
    "x= 0\n",
    "y = 0\n",
    "for i in range(number+1):\n",
    "    x= x + (1 - i % 2) * i #this will add 0 if not even\n",
    "    y = y + (i%2) * i\n",
    "    \n",
    "print(x)\n",
    "print(y)"
   ]
  },
  {
   "cell_type": "code",
   "execution_count": 33,
   "id": "0feaee89",
   "metadata": {},
   "outputs": [
    {
     "name": "stdout",
     "output_type": "stream",
     "text": [
      "Nhập số :5\n",
      "36\n",
      "29\n"
     ]
    }
   ],
   "source": [
    "number = int(input(\"Nhập số :\"))\n",
    "for n in range(number):\n",
    "    x += (1 - n % 2) * n\n",
    "    y += (n % 2) * n\n",
    "\n",
    "    \n",
    "print(x)\n",
    "print(y)"
   ]
  },
  {
   "cell_type": "code",
   "execution_count": 22,
   "id": "6cc582bf",
   "metadata": {},
   "outputs": [
    {
     "name": "stdout",
     "output_type": "stream",
     "text": [
      "nhập số thứ nhất:1\n",
      "nhập số thứ hai:5\n",
      "15\n"
     ]
    }
   ],
   "source": [
    "number1 = int(input(\"nhập số thứ nhất:\"))\n",
    "number2 = int(input(\"nhập số thứ hai:\"))\n",
    "tong = 0\n",
    "\n",
    "for i in range(number1, number2+1):\n",
    "    tong = tong + i\n",
    "    \n",
    "print(tong)"
   ]
  },
  {
   "cell_type": "code",
   "execution_count": 25,
   "id": "f8c45ea1",
   "metadata": {
    "scrolled": true
   },
   "outputs": [
    {
     "name": "stdout",
     "output_type": "stream",
     "text": [
      "nhập số thứ nhất:1\n",
      "nhập số thứ hai:5\n",
      "6\n"
     ]
    }
   ],
   "source": [
    "# Tính tổng hai số\n",
    "number1 = int(input(\"nhập số thứ nhất:\"))\n",
    "number2 = int(input(\"nhập số thứ hai:\"))\n",
    "def sumfunc(number1,number2):\n",
    "    return number1+number2\n",
    "\n",
    "print(sumfunc(number1,number2))"
   ]
  },
  {
   "cell_type": "code",
   "execution_count": 66,
   "id": "8cb5f176",
   "metadata": {},
   "outputs": [
    {
     "name": "stdout",
     "output_type": "stream",
     "text": [
      "5\n",
      "chuỗi nửa đầu :  (1, 2, 3, 4, 5)\n",
      "chuỗi nửa sau :  (6, 7, 8, 9, 10)\n"
     ]
    }
   ],
   "source": [
    "# với một tuple cho trước, viết một chương trình in một nửa giá trị trên hai dòng\n",
    "tp = (1, 2, 3, 4, 5, 6, 7, 8, 9, 10)\n",
    "n1 = int((len(tp) / 2))\n",
    "\n",
    "tp1 = tp[:n1]\n",
    "tp2 = tp[n1:]\n",
    "\n",
    "\n",
    "print(n1)\n",
    "print(\"chuỗi nửa đầu : \", tp1)\n",
    "print(\"chuỗi nửa sau : \", tp2)"
   ]
  },
  {
   "cell_type": "code",
   "execution_count": 67,
   "id": "36e7828c",
   "metadata": {},
   "outputs": [
    {
     "name": "stdout",
     "output_type": "stream",
     "text": [
      "Nhập số :-2\n",
      "Số nhập vào không hợp lệ\n"
     ]
    }
   ],
   "source": [
    "def checkvalue(n):\n",
    "    if n >0:\n",
    "        print(\"Số nhập vào hợp lệ\")\n",
    "    else:\n",
    "        print(\"Số nhập vào không hợp lệ\")\n",
    "        \n",
    "number = int(input(\"Nhập số :\"))\n",
    "checkvalue(number)"
   ]
  }
 ],
 "metadata": {
  "kernelspec": {
   "display_name": "Python 3 (ipykernel)",
   "language": "python",
   "name": "python3"
  },
  "language_info": {
   "codemirror_mode": {
    "name": "ipython",
    "version": 3
   },
   "file_extension": ".py",
   "mimetype": "text/x-python",
   "name": "python",
   "nbconvert_exporter": "python",
   "pygments_lexer": "ipython3",
   "version": "3.9.6"
  }
 },
 "nbformat": 4,
 "nbformat_minor": 5
}
