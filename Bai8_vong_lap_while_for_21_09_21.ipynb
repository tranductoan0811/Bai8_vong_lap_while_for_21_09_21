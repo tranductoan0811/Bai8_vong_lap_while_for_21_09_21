{
 "cells": [
  {
   "cell_type": "code",
   "execution_count": 30,
   "id": "54c1002f",
   "metadata": {},
   "outputs": [
    {
     "name": "stdout",
     "output_type": "stream",
     "text": [
      "hello\n",
      "hello\n",
      "hello\n",
      "Kết thúc vòng lặp\n"
     ]
    }
   ],
   "source": [
    "a = 0\n",
    "while (a <= 2):\n",
    "    a = a+1\n",
    "    print(\"hello\")\n",
    "else:\n",
    "    print(\"Kết thúc vòng lặp\")"
   ]
  },
  {
   "cell_type": "code",
   "execution_count": 39,
   "id": "9576f04d",
   "metadata": {
    "scrolled": true
   },
   "outputs": [
    {
     "name": "stdout",
     "output_type": "stream",
     "text": [
      "cac so 9\n",
      "9\n"
     ]
    }
   ],
   "source": [
    "#range(start, end, step)\n",
    "#while điều_kiện:\n",
    "#    khối_lệnh\n",
    "n = 1\n",
    "while n <= 8:\n",
    "    n = n+1\n",
    "print(\"cac so\",n)\n",
    "print(n)"
   ]
  },
  {
   "cell_type": "code",
   "execution_count": 42,
   "id": "c2bcecb8",
   "metadata": {},
   "outputs": [
    {
     "name": "stdout",
     "output_type": "stream",
     "text": [
      "nhập vào số n: 12\n",
      "tổng các số từ 1 đến 12 là 78\n"
     ]
    }
   ],
   "source": [
    "#Tính tổng các số từ 1 đến 15\n",
    "#Nhập vào số n\n",
    "n = int(input(\"nhập vào số n: \"))\n",
    "\n",
    "#Khởi tạo tổng và biến\n",
    "tong = 0\n",
    "i = 1\n",
    "\n",
    "while i <= n:\n",
    "    tong = tong + i\n",
    "    i = i + 1 # cập nhật số đếm\n",
    "#in số tổng\n",
    "print(f\"tổng các số từ 1 đến {n} là\", tong)"
   ]
  },
  {
   "cell_type": "code",
   "execution_count": 44,
   "id": "103b48e8",
   "metadata": {},
   "outputs": [
    {
     "name": "stdout",
     "output_type": "stream",
     "text": [
      "Nhập một nguyên âm: g\n",
      "Đây không phải là nguyên âm. Hãy thử lại!\n",
      "Nhập một nguyên âm: a\n",
      "Chuẩn rồi, cảm ơn bạn!\n"
     ]
    }
   ],
   "source": [
    "# Nhận đầu vào từ người dùng cho đến khi họ nhập một nguyên âm\n",
    "nguyenam = \"aeiouAEIOU\"\n",
    "\n",
    "# vòng lặp vô hạn, cho đến khi điều kiện được thỏa mãn \n",
    "while True:\n",
    "    m = input(\"Nhập một nguyên âm: \")\n",
    "    if m in nguyenam:\n",
    "        break\n",
    "    print(\"Đây không phải là nguyên âm. Hãy thử lại!\")\n",
    "print(\"Chuẩn rồi, cảm ơn bạn!\")"
   ]
  },
  {
   "cell_type": "code",
   "execution_count": 55,
   "id": "6d192085",
   "metadata": {},
   "outputs": [
    {
     "name": "stdout",
     "output_type": "stream",
     "text": [
      "1\n",
      "2\n",
      "3\n",
      "4\n"
     ]
    }
   ],
   "source": [
    "#mã nguồn của hàm bắt đầu sau dấu hai chấm và phải được thụt lề\n",
    "def main():\n",
    "    x = 0\n",
    "    for x in range(1,5):\n",
    "        print(x)\n",
    "main()"
   ]
  },
  {
   "cell_type": "code",
   "execution_count": 61,
   "id": "c1962f8a",
   "metadata": {},
   "outputs": [
    {
     "name": "stdout",
     "output_type": "stream",
     "text": [
      "0 là nhỏ hơn 5\n",
      "1 là nhỏ hơn 5\n",
      "2 là nhỏ hơn 5\n",
      "3 là nhỏ hơn 5\n",
      "4 là nhỏ hơn 5\n",
      "5 là không nhỏ hơn 5\n"
     ]
    }
   ],
   "source": [
    "a = 0\n",
    "while a < 5:\n",
    "    print (a, \"là nhỏ hơn 5\") # đặt trên số đếm a =  a + 1\n",
    "    a = a+1\n",
    "else:\n",
    "    print(a, \"là không nhỏ hơn 5\")"
   ]
  }
 ],
 "metadata": {
  "kernelspec": {
   "display_name": "Python 3 (ipykernel)",
   "language": "python",
   "name": "python3"
  },
  "language_info": {
   "codemirror_mode": {
    "name": "ipython",
    "version": 3
   },
   "file_extension": ".py",
   "mimetype": "text/x-python",
   "name": "python",
   "nbconvert_exporter": "python",
   "pygments_lexer": "ipython3",
   "version": "3.9.6"
  }
 },
 "nbformat": 4,
 "nbformat_minor": 5
}
