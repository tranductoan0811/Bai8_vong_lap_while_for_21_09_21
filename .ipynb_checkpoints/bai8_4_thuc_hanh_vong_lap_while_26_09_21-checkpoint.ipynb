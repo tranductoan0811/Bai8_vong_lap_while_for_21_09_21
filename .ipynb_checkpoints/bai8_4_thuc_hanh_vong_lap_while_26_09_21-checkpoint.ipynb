{
 "cells": [
  {
   "cell_type": "code",
   "execution_count": 5,
   "id": "4ba5d236",
   "metadata": {},
   "outputs": [
    {
     "name": "stdout",
     "output_type": "stream",
     "text": [
      "Nhập sỹ số học sinh vào điểm: 2\n",
      "Please enter pupil name:Bình\n",
      "Enter math score:2.3\n",
      "Enter literature score:3.2\n",
      "Enter math score:4.2\n",
      "pupil Bình has subject scores and grade as following:\n",
      "    - name: Bình\n",
      "    - math: 2.3\n",
      "    - literature: 3.2\n",
      "    - english: 4.2\n",
      "    - score_average: 3.2\n",
      "    - grade: medium grade \n",
      "    \n",
      "*******************************\n",
      "Please enter pupil name:An\n",
      "Enter math score:6.3\n",
      "Enter literature score:3.5\n",
      "Enter math score:4.2\n",
      "pupil An has subject scores and grade as following:\n",
      "    - name: An\n",
      "    - math: 6.3\n",
      "    - literature: 3.5\n",
      "    - english: 4.2\n",
      "    - score_average: 4.7\n",
      "    - grade: medium grade \n",
      "    \n",
      "*******************************\n",
      "Please enter pupil name:KHánh\n",
      "Enter math score:3.2\n",
      "Enter literature score:5.3\n",
      "Enter math score:6.2\n",
      "pupil KHánh has subject scores and grade as following:\n",
      "    - name: KHánh\n",
      "    - math: 3.2\n",
      "    - literature: 5.3\n",
      "    - english: 6.2\n",
      "    - score_average: 4.9\n",
      "    - grade: medium grade \n",
      "    \n",
      "*******************************\n",
      "kết thúc\n"
     ]
    }
   ],
   "source": [
    "#Đề bài: nhập name, score, score average is until i number pupil ( 26_09_21 )\n",
    "n = int(input(\"Nhập sỹ số học sinh vào điểm: \"))\n",
    "i = 0\n",
    "while i <= n:\n",
    "    name = input(\"Please enter pupil name:\")\n",
    "    math_score = float(input(\"Enter math score:\"))\n",
    "    literature_score = float(input(\"Enter literature score:\"))\n",
    "    english_score = float(input(\"Enter math score:\"))\n",
    "    score_aver = round((math_score + literature_score + english_score)/3,1)\n",
    "    if score_aver >= 6.5:\n",
    "        xeploai = \"Good grade\"\n",
    "    elif score_aver >= 5 and score_aver < 6.5:\n",
    "        xeploai = \"fair grade\"\n",
    "    elif score_aver < 5:\n",
    "        xeploai = \"medium grade\"\n",
    "    \n",
    "      \n",
    "    print(f\"\"\"pupil {name} has subject scores and grade as following:\n",
    "    - name: {name}\n",
    "    - math: {math_score}\n",
    "    - literature: {literature_score}\n",
    "    - english: {english_score}\n",
    "    - score_average: {score_aver}\n",
    "    - grade: {xeploai} \n",
    "    \n",
    "*******************************\"\"\")\n",
    "    \n",
    "    i = i + 1\n",
    "\n",
    "else:\n",
    "    print(\"kết thúc\")\n",
    "    \n"
   ]
  },
  {
   "cell_type": "code",
   "execution_count": null,
   "id": "0040233f",
   "metadata": {},
   "outputs": [],
   "source": []
  }
 ],
 "metadata": {
  "kernelspec": {
   "display_name": "Python 3 (ipykernel)",
   "language": "python",
   "name": "python3"
  },
  "language_info": {
   "codemirror_mode": {
    "name": "ipython",
    "version": 3
   },
   "file_extension": ".py",
   "mimetype": "text/x-python",
   "name": "python",
   "nbconvert_exporter": "python",
   "pygments_lexer": "ipython3",
   "version": "3.9.6"
  }
 },
 "nbformat": 4,
 "nbformat_minor": 5
}
