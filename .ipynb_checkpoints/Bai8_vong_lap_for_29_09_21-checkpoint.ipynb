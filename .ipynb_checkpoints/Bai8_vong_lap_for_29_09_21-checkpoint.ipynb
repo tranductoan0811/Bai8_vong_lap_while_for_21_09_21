{
 "cells": [
  {
   "cell_type": "code",
   "execution_count": 5,
   "id": "2a338b08",
   "metadata": {},
   "outputs": [
    {
     "name": "stdout",
     "output_type": "stream",
     "text": [
      "Tổng =  5050\n"
     ]
    }
   ],
   "source": [
    "tong = 0\n",
    "for i in range(101):\n",
    "    tong = tong + i\n",
    "print(\"Tổng = \", tong)"
   ]
  },
  {
   "cell_type": "code",
   "execution_count": 8,
   "id": "1904111e",
   "metadata": {
    "scrolled": true
   },
   "outputs": [
    {
     "name": "stdout",
     "output_type": "stream",
     "text": [
      "0 , 2 , 4 , 6 , 8 , "
     ]
    }
   ],
   "source": [
    "for i in range(0,10,2):\n",
    "    print(i, end = \" , \")"
   ]
  },
  {
   "cell_type": "code",
   "execution_count": 10,
   "id": "b42929c1",
   "metadata": {
    "scrolled": false
   },
   "outputs": [
    {
     "name": "stdout",
     "output_type": "stream",
     "text": [
      "5 4 3 2 1 0 "
     ]
    }
   ],
   "source": [
    "for i in range(5,-1,-1):\n",
    "    print(i, end = \" \")"
   ]
  },
  {
   "cell_type": "code",
   "execution_count": 12,
   "id": "60b6a69d",
   "metadata": {
    "scrolled": false
   },
   "outputs": [
    {
     "name": "stdout",
     "output_type": "stream",
     "text": [
      "8\n",
      "6\n",
      "1\n",
      "5\n",
      "5\n"
     ]
    }
   ],
   "source": [
    "import random\n",
    "for i in range(5):\n",
    "    print(random.randint(1,10))"
   ]
  },
  {
   "cell_type": "code",
   "execution_count": 21,
   "id": "b43458ae",
   "metadata": {
    "scrolled": true
   },
   "outputs": [
    {
     "name": "stdout",
     "output_type": "stream",
     "text": [
      "0 X 0 = 0\n",
      "1 X 1 = 1\n",
      "2 X 2 = 4\n",
      "3 X 3 = 9\n",
      "4 X 4 = 16\n",
      "5 X 5 = 25\n",
      "6 X 6 = 36\n",
      "7 X 7 = 49\n",
      "8 X 8 = 64\n",
      "9 X 9 = 81\n",
      "10 X 10 = 100\n"
     ]
    }
   ],
   "source": [
    "for i in range(11):\n",
    "    num = i * i\n",
    "    print(i, \"X\", i, \"=\",num)"
   ]
  },
  {
   "cell_type": "code",
   "execution_count": 25,
   "id": "b544dce8",
   "metadata": {
    "scrolled": true
   },
   "outputs": [
    {
     "name": "stdout",
     "output_type": "stream",
     "text": [
      "Python\n",
      "Numpy\n",
      "Pandas\n",
      "Django\n",
      "Flask\n"
     ]
    }
   ],
   "source": [
    "my_list = [\"Python\", \"Numpy\", \"Pandas\", \"Django\", \"Flask\"]\n",
    "for i in my_list:\n",
    "    print(i)"
   ]
  },
  {
   "cell_type": "code",
   "execution_count": 38,
   "id": "7afc6f5a",
   "metadata": {
    "scrolled": true
   },
   "outputs": [
    {
     "name": "stdout",
     "output_type": "stream",
     "text": [
      "5\n",
      "Flask\n",
      "-----------\n",
      "Flask, Django, Pandas, Numpy, Python, "
     ]
    }
   ],
   "source": [
    "my_list = [\"Python\", \"Numpy\", \"Pandas\", \"Django\", \"Flask\"]\n",
    "print(len(my_list))\n",
    "print(my_list[-1])\n",
    "print(\"-----------\")\n",
    "for i in range(-1, -len(my_list)-1,-1):\n",
    "    print(my_list[i], end = \", \")"
   ]
  },
  {
   "cell_type": "code",
   "execution_count": 45,
   "id": "b2724435",
   "metadata": {},
   "outputs": [],
   "source": [
    "person = {\"first_name: \": \"Toan\",\n",
    "          \"last_name\": \"Tran Duc\" \n",
    "    }\n",
    "\n",
    "for key in person:\n",
    "    if key == \"first_name\":\n",
    "        for name in person[\"first_name\"]:\n",
    "            print(name)"
   ]
  },
  {
   "cell_type": "code",
   "execution_count": 47,
   "id": "5c367b00",
   "metadata": {
    "scrolled": true
   },
   "outputs": [
    {
     "name": "stdout",
     "output_type": "stream",
     "text": [
      "0,2,4,6,8,10,12,14,16,18,20,22,24,26,28,30,32,34,36,38,40,42,44,46,48,50,52,54,56,58,60,62,64,66,68,70,72,74,76,78,80,82,84,86,88,90,92,94,96,98,100,"
     ]
    }
   ],
   "source": [
    "for i in range(0,101,2):\n",
    "    print(i, end = \",\")"
   ]
  },
  {
   "cell_type": "code",
   "execution_count": 48,
   "id": "3b23355b",
   "metadata": {
    "scrolled": true
   },
   "outputs": [
    {
     "name": "stdout",
     "output_type": "stream",
     "text": [
      "0,2,4,6,8,10,12,14,16,18,20,22,24,26,28,30,32,34,36,38,40,42,44,46,48,50,52,54,56,58,60,62,64,66,68,70,72,74,76,78,80,82,84,86,88,90,92,94,96,98,100,"
     ]
    }
   ],
   "source": [
    "for i in range(0,101):\n",
    "    if not i %2:\n",
    "        print(i, end = \",\")\n",
    "    "
   ]
  },
  {
   "cell_type": "code",
   "execution_count": 49,
   "id": "9e1762e5",
   "metadata": {
    "scrolled": true
   },
   "outputs": [
    {
     "name": "stdout",
     "output_type": "stream",
     "text": [
      "0,3,6,9,12,15,18,21,24,27,30,33,36,39,42,45,48,51,54,57,60,63,66,69,72,75,78,81,84,87,90,93,96,99,"
     ]
    }
   ],
   "source": [
    "for i in range(0,101,3):\n",
    "    print(i, end = \",\")"
   ]
  },
  {
   "cell_type": "code",
   "execution_count": 52,
   "id": "ac42acdd",
   "metadata": {},
   "outputs": [
    {
     "name": "stdout",
     "output_type": "stream",
     "text": [
      "1,3,5,7,9,11,13,15,17,19,21,23,25,27,29,31,33,35,37,39,41,43,45,47,49,51,53,55,57,59,61,63,65,67,69,71,73,75,77,79,81,83,85,87,89,91,93,95,97,99,"
     ]
    }
   ],
   "source": [
    "#(i % 2:) tương đương i % 2 != 0\n",
    "for i in range(0,101):\n",
    "    if i % 2 != 0:\n",
    "        print(i, end = \",\")"
   ]
  }
 ],
 "metadata": {
  "kernelspec": {
   "display_name": "Python 3 (ipykernel)",
   "language": "python",
   "name": "python3"
  },
  "language_info": {
   "codemirror_mode": {
    "name": "ipython",
    "version": 3
   },
   "file_extension": ".py",
   "mimetype": "text/x-python",
   "name": "python",
   "nbconvert_exporter": "python",
   "pygments_lexer": "ipython3",
   "version": "3.9.6"
  }
 },
 "nbformat": 4,
 "nbformat_minor": 5
}
