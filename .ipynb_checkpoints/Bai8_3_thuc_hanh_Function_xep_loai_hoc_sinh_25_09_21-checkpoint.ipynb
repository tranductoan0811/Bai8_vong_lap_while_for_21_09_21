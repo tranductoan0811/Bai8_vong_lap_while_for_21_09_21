{
 "cells": [
  {
   "cell_type": "code",
   "execution_count": 29,
   "id": "0e96939d",
   "metadata": {},
   "outputs": [
    {
     "name": "stdout",
     "output_type": "stream",
     "text": [
      "Nhập tên học sinh thứ nhất :Khiêm\n",
      "Nhập điểm môn toán học sinh thứ nhất :5.6\n",
      "Nhập điểm môn văn học sinh thứ nhất :8.7\n",
      "Nhập điểm môn Anh văn học sinh thứ nhất :6.3\n",
      "Học sinh: Khiêm có điểm trung bình là : 6.87\n",
      "xếp loại giỏi\n",
      "None\n",
      "-------------------\n",
      "Nhập tên học sinh thứ hai :Tốn\n",
      "Nhập điểm môn toán học sinh thứ hai :7.5\n",
      "Nhập điểm môn văn học sinh thứ hai :6.3\n",
      "Nhập điểm môn Anh văn học sinh thứ hai :6.9\n",
      "Học sinh: Tốn có điểm trung bình là : 6.9\n",
      "xếp loại giỏi\n",
      "None\n",
      "-------------------\n",
      "Nhập tên học sinh thứ ba :An\n",
      "Nhập điểm môn toán học sinh thứ ba :5.3\n",
      "Nhập điểm môn văn học sinh thứ ba :6.2\n",
      "Nhập điểm môn Anh văn học sinh thứ ba :5.8\n",
      "Học sinh: An có điểm trung bình là : 5.77\n",
      "xếp loại trung bình\n",
      "None\n"
     ]
    }
   ],
   "source": [
    "#Hàm xếp loại học lực dựa trên điểm trung bình ( 25_09_21 )\n",
    "def xeploai(diemtb):\n",
    "    if diemtb > 6.5:\n",
    "        print(\"xếp loại giỏi\")\n",
    "    elif diemtb >=5 and diemtb < 6.5:\n",
    "        print(\"xếp loại trung bình\")\n",
    "    else:\n",
    "        print(\"Không đạt yêu cầu\")\n",
    "\n",
    "print(\"-------------------\")\n",
    "\n",
    "name_hs1 = input(\"Nhập tên học sinh thứ nhất :\")\n",
    "toan_hs1 = float(input(\"Nhập điểm môn toán học sinh thứ nhất :\"))\n",
    "van_hs1 = float(input(\"Nhập điểm môn văn học sinh thứ nhất :\"))\n",
    "anh_hs1 = float(input(\"Nhập điểm môn Anh văn học sinh thứ nhất :\"))\n",
    "diemtb_hs1 = round((toan_hs1 + van_hs1 + anh_hs1)/3,2)\n",
    "\n",
    "print(f\"Học sinh: {name_hs1} có điểm trung bình là : {diemtb_hs1}\")\n",
    "print(xeploai(diemtb_hs1))\n",
    "\n",
    "print(\"-------------------\")\n",
    "\n",
    "name_hs2 = input(\"Nhập tên học sinh thứ hai :\")\n",
    "toan_hs2 = float(input(\"Nhập điểm môn toán học sinh thứ hai :\"))\n",
    "van_hs2 = float(input(\"Nhập điểm môn văn học sinh thứ hai :\"))\n",
    "anh_hs2 = float(input(\"Nhập điểm môn Anh văn học sinh thứ hai :\"))\n",
    "diemtb_hs2 = round((toan_hs2 + van_hs2 + anh_hs2)/3,2)\n",
    "\n",
    "print(f\"Học sinh: {name_hs2} có điểm trung bình là : {diemtb_hs2}\")\n",
    "print(xeploai(diemtb_hs2))\n",
    "\n",
    "print(\"-------------------\")\n",
    "\n",
    "name_hs3 = input(\"Nhập tên học sinh thứ ba :\")\n",
    "toan_hs3 = float(input(\"Nhập điểm môn toán học sinh thứ ba :\"))\n",
    "van_hs3 = float(input(\"Nhập điểm môn văn học sinh thứ ba :\"))\n",
    "anh_hs3 = float(input(\"Nhập điểm môn Anh văn học sinh thứ ba :\"))\n",
    "diemtb_hs3 = round((toan_hs3 + van_hs3 + anh_hs3)/3,2)\n",
    "\n",
    "print(f\"Học sinh: {name_hs3} có điểm trung bình là : {diemtb_hs3}\")\n",
    "print(xeploai(diemtb_hs3))"
   ]
  }
 ],
 "metadata": {
  "kernelspec": {
   "display_name": "Python 3 (ipykernel)",
   "language": "python",
   "name": "python3"
  },
  "language_info": {
   "codemirror_mode": {
    "name": "ipython",
    "version": 3
   },
   "file_extension": ".py",
   "mimetype": "text/x-python",
   "name": "python",
   "nbconvert_exporter": "python",
   "pygments_lexer": "ipython3",
   "version": "3.9.6"
  }
 },
 "nbformat": 4,
 "nbformat_minor": 5
}
