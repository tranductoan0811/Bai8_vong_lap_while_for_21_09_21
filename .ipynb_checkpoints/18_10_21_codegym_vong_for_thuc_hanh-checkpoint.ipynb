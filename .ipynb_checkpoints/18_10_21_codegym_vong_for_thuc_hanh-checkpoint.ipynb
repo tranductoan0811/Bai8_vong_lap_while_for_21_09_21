{
 "cells": [
  {
   "cell_type": "code",
   "execution_count": 14,
   "id": "c626b5a1",
   "metadata": {},
   "outputs": [],
   "source": [
    "# [Thực hành] Vẽ hình vuông sử dụng vòng lặp for\n",
    "# Import thư viện turtle \n",
    "import turtle"
   ]
  },
  {
   "cell_type": "code",
   "execution_count": 15,
   "id": "7497eb4c",
   "metadata": {},
   "outputs": [],
   "source": [
    "# make screen object\n",
    "# and set size\n",
    "wn = turtle.Screen()\n",
    "wn.setup(1000,600)\n"
   ]
  },
  {
   "cell_type": "code",
   "execution_count": 16,
   "id": "d32e1ef7",
   "metadata": {},
   "outputs": [],
   "source": [
    "# Cài đặt cửa sổ\n",
    "\n",
    "wn.bgcolor(\"#EAF6F5\")\n",
    "wn.title(\"square\")"
   ]
  },
  {
   "cell_type": "code",
   "execution_count": 18,
   "id": "f7ccc140",
   "metadata": {},
   "outputs": [],
   "source": [
    "# Cài đặt bút vẽ hình vuông\n",
    "mypen = turtle.Turtle()\n",
    "mypen.speed(0)\n",
    "mypen.color(\"#1C655F\")"
   ]
  },
  {
   "cell_type": "code",
   "execution_count": 19,
   "id": "f0812be4",
   "metadata": {},
   "outputs": [],
   "source": [
    "# Tạo vòng lặp để vẽ hình.\n",
    "\n",
    "for i in range(4):\n",
    "    mypen.fd(200)\n",
    "    mypen.lt(90)\n",
    "    \n",
    "turtle.done()"
   ]
  },
  {
   "cell_type": "code",
   "execution_count": 27,
   "id": "75863174",
   "metadata": {},
   "outputs": [
    {
     "name": "stdout",
     "output_type": "stream",
     "text": [
      "[<turtle.Turtle object at 0x00000230E4320AC0>, <turtle.Turtle object at 0x00000230E3010AF0>, <turtle.Turtle object at 0x00000230E3195F40>, <turtle.Turtle object at 0x00000230E31AE340>, <turtle.Turtle object at 0x00000230E31978B0>, <turtle.Turtle object at 0x00000230E41FD0A0>, <turtle.Turtle object at 0x00000230E42A1B50>, <turtle.Turtle object at 0x00000230E41FD3A0>, <turtle.Turtle object at 0x00000230E3197970>, <turtle.Turtle object at 0x00000230E41B6FD0>, <turtle.Turtle object at 0x00000230E41FD190>, <turtle.Turtle object at 0x00000230E31AEF10>, <turtle.Turtle object at 0x00000230E31976A0>]\n"
     ]
    }
   ],
   "source": [
    "# import package\n",
    "import turtle\n",
    " \n",
    "# make screen object\n",
    "# and set size\n",
    "sc = turtle.Screen()\n",
    "sc.setup(400,300)\n",
    " \n",
    "# make turtle object\n",
    "t1=turtle.Turtle(shape='square')\n",
    " \n",
    "# do some motion with properties\n",
    "t1.color(\"red\")\n",
    "t1.circle(50)\n",
    " \n",
    "# make another turtle object\n",
    "t2=turtle.Turtle(shape='circle')\n",
    " \n",
    "# do some motion with properties\n",
    "t2.color(\"green\")\n",
    "t2.circle(40)\n",
    " \n",
    "# get all turtle objects on screen\n",
    "print(sc.turtles())"
   ]
  }
 ],
 "metadata": {
  "kernelspec": {
   "display_name": "Python 3 (ipykernel)",
   "language": "python",
   "name": "python3"
  },
  "language_info": {
   "codemirror_mode": {
    "name": "ipython",
    "version": 3
   },
   "file_extension": ".py",
   "mimetype": "text/x-python",
   "name": "python",
   "nbconvert_exporter": "python",
   "pygments_lexer": "ipython3",
   "version": "3.9.6"
  }
 },
 "nbformat": 4,
 "nbformat_minor": 5
}
