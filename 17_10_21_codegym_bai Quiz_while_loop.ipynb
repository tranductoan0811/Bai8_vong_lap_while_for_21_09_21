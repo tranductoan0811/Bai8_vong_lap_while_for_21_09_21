{
 "cells": [
  {
   "cell_type": "code",
   "execution_count": 3,
   "id": "5f750be7",
   "metadata": {},
   "outputs": [
    {
     "name": "stdout",
     "output_type": "stream",
     "text": [
      "2 4 6 8 10 "
     ]
    }
   ],
   "source": [
    "#vòng while\n",
    "i = 0\n",
    "\n",
    "while i < 10:\n",
    "\n",
    "    i += 2\n",
    "\n",
    "    print(i, end=\" \")"
   ]
  },
  {
   "cell_type": "code",
   "execution_count": 4,
   "id": "46c2f0e1",
   "metadata": {},
   "outputs": [
    {
     "name": "stdout",
     "output_type": "stream",
     "text": [
      "7 4 1 -2 "
     ]
    }
   ],
   "source": [
    "i = 10\n",
    "\n",
    "while i > 0:\n",
    "\n",
    "    i -= 3\n",
    "\n",
    "    print(i, end=\" \")"
   ]
  },
  {
   "cell_type": "code",
   "execution_count": 5,
   "id": "234e0113",
   "metadata": {},
   "outputs": [
    {
     "name": "stdout",
     "output_type": "stream",
     "text": [
      "036"
     ]
    }
   ],
   "source": [
    "i = 0\n",
    "\n",
    "j = 10\n",
    "\n",
    "while i + j < 20:\n",
    "\n",
    "    print(i, end=\"\")\n",
    "\n",
    "    i += 3\n",
    "\n",
    "    j -= 1\n",
    "\n",
    "    if i > j: break"
   ]
  },
  {
   "cell_type": "code",
   "execution_count": 10,
   "id": "f0b97998",
   "metadata": {},
   "outputs": [
    {
     "name": "stdout",
     "output_type": "stream",
     "text": [
      "3 6 12 "
     ]
    }
   ],
   "source": [
    "i = 0\n",
    "\n",
    "j = 12\n",
    "\n",
    "while i + j < 20:\n",
    "\n",
    "    j -= 1\n",
    "\n",
    "    i += 3\n",
    "\n",
    "    if i == j:\n",
    "\n",
    "        continue\n",
    "\n",
    "    print(i, end=\" \")"
   ]
  },
  {
   "cell_type": "code",
   "execution_count": 11,
   "id": "5c68c483",
   "metadata": {},
   "outputs": [
    {
     "name": "stdout",
     "output_type": "stream",
     "text": [
      "318616914"
     ]
    }
   ],
   "source": [
    "i = 0\n",
    "\n",
    "j = 20\n",
    "\n",
    "while True:\n",
    "\n",
    "    j -= 2\n",
    "\n",
    "    i += 3\n",
    "\n",
    "    if i >= j:\n",
    "\n",
    "        break # không bao gồm giá trị bằng. Đến khi thỏa mãn điều kiện là thực thi khối lệnh sau break\n",
    "\n",
    "    print(i, j, sep=\"\", end=\"\")"
   ]
  },
  {
   "cell_type": "code",
   "execution_count": 20,
   "id": "458310b2",
   "metadata": {},
   "outputs": [
    {
     "name": "stdout",
     "output_type": "stream",
     "text": [
      "86420"
     ]
    }
   ],
   "source": [
    "i = 10\n",
    "\n",
    "while i>= 2:\n",
    "\n",
    "    i -= 2\n",
    "\n",
    "    print(i, end=\"\")"
   ]
  },
  {
   "cell_type": "code",
   "execution_count": 14,
   "id": "fc16d24f",
   "metadata": {},
   "outputs": [
    {
     "name": "stdout",
     "output_type": "stream",
     "text": [
      "4\n",
      "3\n",
      "2\n",
      "1\n"
     ]
    }
   ],
   "source": [
    "# checks if list still\n",
    "# contains any element\n",
    "a = [1, 2, 3, 4]\n",
    " \n",
    "while a:\n",
    "    print(a.pop())"
   ]
  },
  {
   "cell_type": "code",
   "execution_count": null,
   "id": "e56bbd76",
   "metadata": {},
   "outputs": [],
   "source": [
    "# while condition:\n",
    "    # code block to run\n",
    "# else:\n",
    "    # else clause code block\n",
    "# ------\n",
    "# In this syntax, the condition is checked at the beginning of each iteration. \n",
    "# The code block inside the while statement will execute as long as the condition is True.\n",
    "\n",
    "# When the condition becomes False and the loop runs normally, \n",
    "# the else clause will execute. However, if the loop is terminated prematurely by either a break or return statement, \n",
    "# the else clause won’t execute at all."
   ]
  },
  {
   "cell_type": "code",
   "execution_count": 22,
   "id": "e5e323e6",
   "metadata": {},
   "outputs": [
    {
     "name": "stdout",
     "output_type": "stream",
     "text": [
      "914a\n"
     ]
    }
   ],
   "source": [
    "i = 0\n",
    "\n",
    "j = 20\n",
    "\n",
    "while True:\n",
    "\n",
    "    j -= 2\n",
    "\n",
    "    i += 3\n",
    "\n",
    "    if i >= j:\n",
    "\n",
    "        break\n",
    "\n",
    "    if j > 15:\n",
    "\n",
    "        continue\n",
    "\n",
    "    print(i, j, sep=\"\", end=\"\")\n",
    "\n",
    "else:\n",
    "\n",
    "    print(j, end=\"\")\n",
    "\n",
    "print(\"a\")"
   ]
  }
 ],
 "metadata": {
  "kernelspec": {
   "display_name": "Python 3 (ipykernel)",
   "language": "python",
   "name": "python3"
  },
  "language_info": {
   "codemirror_mode": {
    "name": "ipython",
    "version": 3
   },
   "file_extension": ".py",
   "mimetype": "text/x-python",
   "name": "python",
   "nbconvert_exporter": "python",
   "pygments_lexer": "ipython3",
   "version": "3.9.6"
  }
 },
 "nbformat": 4,
 "nbformat_minor": 5
}
